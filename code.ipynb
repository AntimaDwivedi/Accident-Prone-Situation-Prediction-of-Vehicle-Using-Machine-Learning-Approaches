{
 "cells": [
  {
   "cell_type": "code",
   "execution_count": 5,
   "metadata": {},
   "outputs": [],
   "source": [
    "import pandas as pd\n",
    "import numpy as np\n",
    "import seaborn as sns\n",
    "import matplotlib.pyplot as plt\n",
    "from sklearn.model_selection import GridSearchCV,RandomizedSearchCV\n",
    "from sklearn.metrics import classification_report,roc_auc_score,roc_curve\n",
    "from sklearn.model_selection import train_test_split, KFold\n",
    "from sklearn.preprocessing import StandardScaler\n",
    "from sklearn.neighbors import KNeighborsClassifier\n",
    "from mpl_toolkits.mplot3d import Axes3D \n",
    "from sklearn.linear_model import LogisticRegression\n",
    "import scipy\n",
    "from scipy.spatial.distance import pdist,cdist\n",
    "from scipy.cluster.hierarchy import dendrogram,linkage\n",
    "from scipy.cluster.hierarchy import fcluster\n",
    "from scipy.cluster.hierarchy import cophenet\n",
    "from sklearn.cluster import AgglomerativeClustering\n",
    "from sklearn.decomposition import PCA\n",
    "from sklearn.cluster import KMeans\n",
    "from sklearn.preprocessing import StandardScaler\n",
    "from sklearn.metrics import confusion_matrix\n",
    "from sklearn import tree\n",
    "from sklearn.metrics import classification_report\n",
    "from sklearn.metrics import accuracy_score, precision_score, recall_score\n",
    "from sklearn.model_selection import train_test_split\n",
    "from sklearn import tree\n",
    "from sklearn.naive_bayes import GaussianNB\n",
    "from sklearn.tree import DecisionTreeClassifier\n",
    "from sklearn.ensemble import RandomForestClassifier\n",
    "from sklearn.ensemble import GradientBoostingClassifier\n",
    "import numpy as np\n",
    "import pandas as pd\n",
    "import os\n",
    "import seaborn as sns\n",
    "import matplotlib.pyplot as plt\n",
    "from sklearn import tree\n",
    "from IPython.display import Image as PImage\n",
    "from subprocess import check_call\n",
    "from PIL import Image, ImageDraw, ImageFont\n",
    "import re\n",
    "from sklearn.model_selection import GridSearchCV, RandomizedSearchCV, cross_val_score, learning_curve, train_test_split\n",
    "from sklearn.ensemble import RandomForestClassifier, GradientBoostingClassifier\n",
    "from sklearn.linear_model import LogisticRegression\n",
    "from sklearn.metrics import (accuracy_score, log_loss, classification_report,f1_score,confusion_matrix)\n",
    "\n",
    "from sklearn.preprocessing import MinMaxScaler,StandardScaler,LabelEncoder,OneHotEncoder\n",
    "from sklearn.metrics import roc_auc_score,roc_curve\n",
    "from sklearn.model_selection import KFold\n",
    "from sklearn.preprocessing import StandardScaler\n",
    "from sklearn.neighbors import KNeighborsClassifier\n",
    "import scipy\n",
    "from sklearn.preprocessing import StandardScaler\n",
    "from sklearn import tree\n",
    "from sklearn.tree import DecisionTreeClassifier"
   ]
  },
  {
   "cell_type": "code",
   "execution_count": 10,
   "metadata": {},
   "outputs": [
    {
     "data": {
      "text/html": [
       "<div>\n",
       "<style scoped>\n",
       "    .dataframe tbody tr th:only-of-type {\n",
       "        vertical-align: middle;\n",
       "    }\n",
       "\n",
       "    .dataframe tbody tr th {\n",
       "        vertical-align: top;\n",
       "    }\n",
       "\n",
       "    .dataframe thead th {\n",
       "        text-align: right;\n",
       "    }\n",
       "</style>\n",
       "<table border=\"1\" class=\"dataframe\">\n",
       "  <thead>\n",
       "    <tr style=\"text-align: right;\">\n",
       "      <th></th>\n",
       "      <th>EAR</th>\n",
       "      <th>YAWN</th>\n",
       "      <th>PULSE</th>\n",
       "      <th>OUTPUT</th>\n",
       "    </tr>\n",
       "  </thead>\n",
       "  <tbody>\n",
       "    <tr>\n",
       "      <th>0</th>\n",
       "      <td>0.327041</td>\n",
       "      <td>11.833333</td>\n",
       "      <td>90.6</td>\n",
       "      <td>1</td>\n",
       "    </tr>\n",
       "    <tr>\n",
       "      <th>1</th>\n",
       "      <td>0.377836</td>\n",
       "      <td>11.833333</td>\n",
       "      <td>50.4</td>\n",
       "      <td>0</td>\n",
       "    </tr>\n",
       "    <tr>\n",
       "      <th>2</th>\n",
       "      <td>0.371883</td>\n",
       "      <td>11.833333</td>\n",
       "      <td>50.4</td>\n",
       "      <td>0</td>\n",
       "    </tr>\n",
       "    <tr>\n",
       "      <th>3</th>\n",
       "      <td>0.323330</td>\n",
       "      <td>11.833333</td>\n",
       "      <td>50.6</td>\n",
       "      <td>0</td>\n",
       "    </tr>\n",
       "    <tr>\n",
       "      <th>4</th>\n",
       "      <td>0.290491</td>\n",
       "      <td>11.166667</td>\n",
       "      <td>80.6</td>\n",
       "      <td>1</td>\n",
       "    </tr>\n",
       "  </tbody>\n",
       "</table>\n",
       "</div>"
      ],
      "text/plain": [
       "        EAR       YAWN  PULSE  OUTPUT\n",
       "0  0.327041  11.833333   90.6       1\n",
       "1  0.377836  11.833333   50.4       0\n",
       "2  0.371883  11.833333   50.4       0\n",
       "3  0.323330  11.833333   50.6       0\n",
       "4  0.290491  11.166667   80.6       1"
      ]
     },
     "execution_count": 10,
     "metadata": {},
     "output_type": "execute_result"
    }
   ],
   "source": [
    "col_names=[\"EAR\",\"YAWN\",\"PULSE\",\"OUTPUT\"]\n",
    "df= pd.read_csv(\"Accident_prone_dataset.csv\")\n",
    "df.head()"
   ]
  },
  {
   "cell_type": "code",
   "execution_count": 11,
   "metadata": {},
   "outputs": [
    {
     "data": {
      "text/html": [
       "<div>\n",
       "<style scoped>\n",
       "    .dataframe tbody tr th:only-of-type {\n",
       "        vertical-align: middle;\n",
       "    }\n",
       "\n",
       "    .dataframe tbody tr th {\n",
       "        vertical-align: top;\n",
       "    }\n",
       "\n",
       "    .dataframe thead th {\n",
       "        text-align: right;\n",
       "    }\n",
       "</style>\n",
       "<table border=\"1\" class=\"dataframe\">\n",
       "  <thead>\n",
       "    <tr style=\"text-align: right;\">\n",
       "      <th></th>\n",
       "      <th>EAR</th>\n",
       "      <th>YAWN</th>\n",
       "      <th>PULSE</th>\n",
       "      <th>OUTPUT</th>\n",
       "    </tr>\n",
       "  </thead>\n",
       "  <tbody>\n",
       "    <tr>\n",
       "      <th>0</th>\n",
       "      <td>0.327041</td>\n",
       "      <td>11.833333</td>\n",
       "      <td>90.6</td>\n",
       "      <td>1</td>\n",
       "    </tr>\n",
       "    <tr>\n",
       "      <th>1</th>\n",
       "      <td>0.377836</td>\n",
       "      <td>11.833333</td>\n",
       "      <td>50.4</td>\n",
       "      <td>0</td>\n",
       "    </tr>\n",
       "    <tr>\n",
       "      <th>2</th>\n",
       "      <td>0.371883</td>\n",
       "      <td>11.833333</td>\n",
       "      <td>50.4</td>\n",
       "      <td>0</td>\n",
       "    </tr>\n",
       "    <tr>\n",
       "      <th>3</th>\n",
       "      <td>0.323330</td>\n",
       "      <td>11.833333</td>\n",
       "      <td>50.6</td>\n",
       "      <td>0</td>\n",
       "    </tr>\n",
       "    <tr>\n",
       "      <th>4</th>\n",
       "      <td>0.290491</td>\n",
       "      <td>11.166667</td>\n",
       "      <td>80.6</td>\n",
       "      <td>1</td>\n",
       "    </tr>\n",
       "    <tr>\n",
       "      <th>...</th>\n",
       "      <td>...</td>\n",
       "      <td>...</td>\n",
       "      <td>...</td>\n",
       "      <td>...</td>\n",
       "    </tr>\n",
       "    <tr>\n",
       "      <th>2035</th>\n",
       "      <td>0.330147</td>\n",
       "      <td>21.666667</td>\n",
       "      <td>181.0</td>\n",
       "      <td>1</td>\n",
       "    </tr>\n",
       "    <tr>\n",
       "      <th>2036</th>\n",
       "      <td>0.268312</td>\n",
       "      <td>21.666667</td>\n",
       "      <td>55.0</td>\n",
       "      <td>1</td>\n",
       "    </tr>\n",
       "    <tr>\n",
       "      <th>2037</th>\n",
       "      <td>0.324901</td>\n",
       "      <td>21.666667</td>\n",
       "      <td>183.0</td>\n",
       "      <td>1</td>\n",
       "    </tr>\n",
       "    <tr>\n",
       "      <th>2038</th>\n",
       "      <td>0.300626</td>\n",
       "      <td>20.500000</td>\n",
       "      <td>183.0</td>\n",
       "      <td>1</td>\n",
       "    </tr>\n",
       "    <tr>\n",
       "      <th>2039</th>\n",
       "      <td>0.353683</td>\n",
       "      <td>20.500000</td>\n",
       "      <td>81.0</td>\n",
       "      <td>1</td>\n",
       "    </tr>\n",
       "  </tbody>\n",
       "</table>\n",
       "<p>2039 rows × 4 columns</p>\n",
       "</div>"
      ],
      "text/plain": [
       "           EAR       YAWN  PULSE  OUTPUT\n",
       "0     0.327041  11.833333   90.6       1\n",
       "1     0.377836  11.833333   50.4       0\n",
       "2     0.371883  11.833333   50.4       0\n",
       "3     0.323330  11.833333   50.6       0\n",
       "4     0.290491  11.166667   80.6       1\n",
       "...        ...        ...    ...     ...\n",
       "2035  0.330147  21.666667  181.0       1\n",
       "2036  0.268312  21.666667   55.0       1\n",
       "2037  0.324901  21.666667  183.0       1\n",
       "2038  0.300626  20.500000  183.0       1\n",
       "2039  0.353683  20.500000   81.0       1\n",
       "\n",
       "[2039 rows x 4 columns]"
      ]
     },
     "execution_count": 11,
     "metadata": {},
     "output_type": "execute_result"
    }
   ],
   "source": [
    "new_df = df.dropna()\n",
    "new_df"
   ]
  },
  {
   "cell_type": "code",
   "execution_count": 12,
   "metadata": {},
   "outputs": [
    {
     "data": {
      "text/html": [
       "<div>\n",
       "<style scoped>\n",
       "    .dataframe tbody tr th:only-of-type {\n",
       "        vertical-align: middle;\n",
       "    }\n",
       "\n",
       "    .dataframe tbody tr th {\n",
       "        vertical-align: top;\n",
       "    }\n",
       "\n",
       "    .dataframe thead th {\n",
       "        text-align: right;\n",
       "    }\n",
       "</style>\n",
       "<table border=\"1\" class=\"dataframe\">\n",
       "  <thead>\n",
       "    <tr style=\"text-align: right;\">\n",
       "      <th></th>\n",
       "      <th>EAR</th>\n",
       "      <th>YAWN</th>\n",
       "      <th>PULSE</th>\n",
       "      <th>OUTPUT</th>\n",
       "    </tr>\n",
       "  </thead>\n",
       "  <tbody>\n",
       "    <tr>\n",
       "      <th>0</th>\n",
       "      <td>0.327041</td>\n",
       "      <td>11.833333</td>\n",
       "      <td>90.6</td>\n",
       "      <td>1</td>\n",
       "    </tr>\n",
       "    <tr>\n",
       "      <th>1</th>\n",
       "      <td>0.377836</td>\n",
       "      <td>11.833333</td>\n",
       "      <td>50.4</td>\n",
       "      <td>0</td>\n",
       "    </tr>\n",
       "    <tr>\n",
       "      <th>2</th>\n",
       "      <td>0.371883</td>\n",
       "      <td>11.833333</td>\n",
       "      <td>50.4</td>\n",
       "      <td>0</td>\n",
       "    </tr>\n",
       "    <tr>\n",
       "      <th>3</th>\n",
       "      <td>0.323330</td>\n",
       "      <td>11.833333</td>\n",
       "      <td>50.6</td>\n",
       "      <td>0</td>\n",
       "    </tr>\n",
       "    <tr>\n",
       "      <th>4</th>\n",
       "      <td>0.290491</td>\n",
       "      <td>11.166667</td>\n",
       "      <td>80.6</td>\n",
       "      <td>1</td>\n",
       "    </tr>\n",
       "    <tr>\n",
       "      <th>...</th>\n",
       "      <td>...</td>\n",
       "      <td>...</td>\n",
       "      <td>...</td>\n",
       "      <td>...</td>\n",
       "    </tr>\n",
       "    <tr>\n",
       "      <th>2035</th>\n",
       "      <td>0.330147</td>\n",
       "      <td>21.666667</td>\n",
       "      <td>181.0</td>\n",
       "      <td>1</td>\n",
       "    </tr>\n",
       "    <tr>\n",
       "      <th>2036</th>\n",
       "      <td>0.268312</td>\n",
       "      <td>21.666667</td>\n",
       "      <td>55.0</td>\n",
       "      <td>1</td>\n",
       "    </tr>\n",
       "    <tr>\n",
       "      <th>2037</th>\n",
       "      <td>0.324901</td>\n",
       "      <td>21.666667</td>\n",
       "      <td>183.0</td>\n",
       "      <td>1</td>\n",
       "    </tr>\n",
       "    <tr>\n",
       "      <th>2038</th>\n",
       "      <td>0.300626</td>\n",
       "      <td>20.500000</td>\n",
       "      <td>183.0</td>\n",
       "      <td>1</td>\n",
       "    </tr>\n",
       "    <tr>\n",
       "      <th>2039</th>\n",
       "      <td>0.353683</td>\n",
       "      <td>20.500000</td>\n",
       "      <td>81.0</td>\n",
       "      <td>1</td>\n",
       "    </tr>\n",
       "  </tbody>\n",
       "</table>\n",
       "<p>2039 rows × 4 columns</p>\n",
       "</div>"
      ],
      "text/plain": [
       "           EAR       YAWN  PULSE  OUTPUT\n",
       "0     0.327041  11.833333   90.6       1\n",
       "1     0.377836  11.833333   50.4       0\n",
       "2     0.371883  11.833333   50.4       0\n",
       "3     0.323330  11.833333   50.6       0\n",
       "4     0.290491  11.166667   80.6       1\n",
       "...        ...        ...    ...     ...\n",
       "2035  0.330147  21.666667  181.0       1\n",
       "2036  0.268312  21.666667   55.0       1\n",
       "2037  0.324901  21.666667  183.0       1\n",
       "2038  0.300626  20.500000  183.0       1\n",
       "2039  0.353683  20.500000   81.0       1\n",
       "\n",
       "[2039 rows x 4 columns]"
      ]
     },
     "execution_count": 12,
     "metadata": {},
     "output_type": "execute_result"
    }
   ],
   "source": [
    "ne_df = new_df.fillna(method=\"ffill\") #fill the value same as previous value\n",
    "ne_df"
   ]
  },
  {
   "cell_type": "code",
   "execution_count": 13,
   "metadata": {},
   "outputs": [
    {
     "name": "stdout",
     "output_type": "stream",
     "text": [
      "<class 'pandas.core.frame.DataFrame'>\n",
      "Int64Index: 2039 entries, 0 to 2039\n",
      "Data columns (total 4 columns):\n",
      " #   Column  Non-Null Count  Dtype  \n",
      "---  ------  --------------  -----  \n",
      " 0   EAR     2039 non-null   float64\n",
      " 1   YAWN    2039 non-null   float64\n",
      " 2   PULSE   2039 non-null   float64\n",
      " 3   OUTPUT  2039 non-null   int64  \n",
      "dtypes: float64(3), int64(1)\n",
      "memory usage: 79.6 KB\n"
     ]
    }
   ],
   "source": [
    "ne_df.info()"
   ]
  },
  {
   "cell_type": "code",
   "execution_count": 15,
   "metadata": {},
   "outputs": [
    {
     "name": "stdout",
     "output_type": "stream",
     "text": [
      "<class 'pandas.core.frame.DataFrame'>\n",
      "Int64Index: 2039 entries, 0 to 2039\n",
      "Data columns (total 4 columns):\n",
      " #   Column  Non-Null Count  Dtype  \n",
      "---  ------  --------------  -----  \n",
      " 0   EAR     2039 non-null   float64\n",
      " 1   YAWN    2039 non-null   float64\n",
      " 2   PULSE   2039 non-null   float64\n",
      " 3   OUTPUT  2039 non-null   float64\n",
      "dtypes: float64(4)\n",
      "memory usage: 79.6 KB\n"
     ]
    }
   ],
   "source": [
    "ne_df['EAR'] = ne_df['EAR'].astype(float)\n",
    "ne_df['YAWN'] = ne_df['YAWN'].astype(float)\n",
    "ne_df['PULSE'] = ne_df['PULSE'].astype(float)\n",
    "ne_df['OUTPUT'] = ne_df['OUTPUT'].astype(float)\n",
    "ne_df.info()"
   ]
  },
  {
   "cell_type": "code",
   "execution_count": 17,
   "metadata": {},
   "outputs": [
    {
     "data": {
      "text/html": [
       "<div>\n",
       "<style scoped>\n",
       "    .dataframe tbody tr th:only-of-type {\n",
       "        vertical-align: middle;\n",
       "    }\n",
       "\n",
       "    .dataframe tbody tr th {\n",
       "        vertical-align: top;\n",
       "    }\n",
       "\n",
       "    .dataframe thead th {\n",
       "        text-align: right;\n",
       "    }\n",
       "</style>\n",
       "<table border=\"1\" class=\"dataframe\">\n",
       "  <thead>\n",
       "    <tr style=\"text-align: right;\">\n",
       "      <th></th>\n",
       "      <th>EAR</th>\n",
       "      <th>YAWN</th>\n",
       "      <th>PULSE</th>\n",
       "      <th>OUTPUT</th>\n",
       "    </tr>\n",
       "  </thead>\n",
       "  <tbody>\n",
       "    <tr>\n",
       "      <th>0</th>\n",
       "      <td>0.327041</td>\n",
       "      <td>11.833333</td>\n",
       "      <td>90.6</td>\n",
       "      <td>1.0</td>\n",
       "    </tr>\n",
       "    <tr>\n",
       "      <th>1</th>\n",
       "      <td>0.377836</td>\n",
       "      <td>11.833333</td>\n",
       "      <td>50.4</td>\n",
       "      <td>0.0</td>\n",
       "    </tr>\n",
       "    <tr>\n",
       "      <th>2</th>\n",
       "      <td>0.371883</td>\n",
       "      <td>11.833333</td>\n",
       "      <td>50.4</td>\n",
       "      <td>0.0</td>\n",
       "    </tr>\n",
       "    <tr>\n",
       "      <th>3</th>\n",
       "      <td>0.323330</td>\n",
       "      <td>11.833333</td>\n",
       "      <td>50.6</td>\n",
       "      <td>0.0</td>\n",
       "    </tr>\n",
       "    <tr>\n",
       "      <th>4</th>\n",
       "      <td>0.290491</td>\n",
       "      <td>11.166667</td>\n",
       "      <td>80.6</td>\n",
       "      <td>1.0</td>\n",
       "    </tr>\n",
       "  </tbody>\n",
       "</table>\n",
       "</div>"
      ],
      "text/plain": [
       "        EAR       YAWN  PULSE  OUTPUT\n",
       "0  0.327041  11.833333   90.6     1.0\n",
       "1  0.377836  11.833333   50.4     0.0\n",
       "2  0.371883  11.833333   50.4     0.0\n",
       "3  0.323330  11.833333   50.6     0.0\n",
       "4  0.290491  11.166667   80.6     1.0"
      ]
     },
     "execution_count": 17,
     "metadata": {},
     "output_type": "execute_result"
    }
   ],
   "source": [
    "col_names=[\"EAR\",\"YAWN\",\"PULSE\",\"OUTPUT\"]\n",
    "ne_df.head()"
   ]
  },
  {
   "cell_type": "code",
   "execution_count": 46,
   "metadata": {},
   "outputs": [],
   "source": [
    "feature_cols=[\"EAR\",\"YAWN\",\"PULSE\",\"OUTPUT\"]\n",
    "X=ne_df[feature_cols]\n",
    "y=ne_df.OUTPUT"
   ]
  },
  {
   "cell_type": "code",
   "execution_count": 47,
   "metadata": {},
   "outputs": [],
   "source": [
    "def calculateScore(confMat):\n",
    "    TP = confMat[0][0]\n",
    "    TN = confMat[1][1]\n",
    "    FP = confMat[0][1]\n",
    "    FN = confMat[1][0]\n",
    "    SEN=[]\n",
    "    SPE=[]\n",
    "    \n",
    "    \n",
    "    SEN.append(TP / (TP + FN))\n",
    "    SPE.append(TN / (FP + TN))\n",
    "    FPR.append(FP / (FP + TN))\n",
    "    FNR.append(FN / (FN + TP))"
   ]
  },
  {
   "cell_type": "code",
   "execution_count": 48,
   "metadata": {},
   "outputs": [],
   "source": [
    "from sklearn.model_selection import train_test_split\n",
    "train, test, target_train, target_val=train_test_split(X,y,test_size=0.25,random_state=0)"
   ]
  },
  {
   "cell_type": "code",
   "execution_count": 49,
   "metadata": {},
   "outputs": [],
   "source": [
    "Model = []\n",
    "Accuracy= []\n",
    "F1Score = []\n",
    "Precision=[]\n",
    "Recall=[]"
   ]
  },
  {
   "cell_type": "code",
   "execution_count": 50,
   "metadata": {},
   "outputs": [
    {
     "name": "stdout",
     "output_type": "stream",
     "text": [
      "              precision    recall  f1-score   support\n",
      "\n",
      "         0.0       1.00      1.00      1.00        97\n",
      "         1.0       1.00      1.00      1.00       413\n",
      "\n",
      "    accuracy                           1.00       510\n",
      "   macro avg       1.00      1.00      1.00       510\n",
      "weighted avg       1.00      1.00      1.00       510\n",
      "\n"
     ]
    }
   ],
   "source": [
    "LR = LogisticRegression(multi_class='auto')\n",
    "LR.fit(train,target_train)\n",
    "lr_pred = LR.predict(test)\n",
    "Model.append('Logistic Regression')\n",
    "Accuracy.append(accuracy_score(target_val,lr_pred))\n",
    "Precision.append(precision_score(target_val,lr_pred))\n",
    "Recall.append(recall_score(target_val,lr_pred))\n",
    "F1Score.append(f1_score(target_val,lr_pred,average=None))\n",
    "print(classification_report(target_val,lr_pred))"
   ]
  },
  {
   "cell_type": "code",
   "execution_count": 51,
   "metadata": {},
   "outputs": [
    {
     "ename": "NameError",
     "evalue": "name 'SEN' is not defined",
     "output_type": "error",
     "traceback": [
      "\u001b[0;31m---------------------------------------------------------------------------\u001b[0m",
      "\u001b[0;31mNameError\u001b[0m                                 Traceback (most recent call last)",
      "Input \u001b[0;32mIn [51]\u001b[0m, in \u001b[0;36m<cell line: 2>\u001b[0;34m()\u001b[0m\n\u001b[1;32m      1\u001b[0m data \u001b[38;5;241m=\u001b[39m confusion_matrix(target_val,lr_pred)\n\u001b[0;32m----> 2\u001b[0m \u001b[43mcalculateScore\u001b[49m\u001b[43m(\u001b[49m\u001b[43mdata\u001b[49m\u001b[43m)\u001b[49m\n\u001b[1;32m      3\u001b[0m df_cm \u001b[38;5;241m=\u001b[39m pd\u001b[38;5;241m.\u001b[39mDataFrame(data, columns\u001b[38;5;241m=\u001b[39mnp\u001b[38;5;241m.\u001b[39munique(target_val), index \u001b[38;5;241m=\u001b[39m np\u001b[38;5;241m.\u001b[39munique(target_val))\n\u001b[1;32m      4\u001b[0m df_cm\u001b[38;5;241m.\u001b[39mindex\u001b[38;5;241m.\u001b[39mname \u001b[38;5;241m=\u001b[39m \u001b[38;5;124m'\u001b[39m\u001b[38;5;124mActual\u001b[39m\u001b[38;5;124m'\u001b[39m\n",
      "Input \u001b[0;32mIn [47]\u001b[0m, in \u001b[0;36mcalculateScore\u001b[0;34m(confMat)\u001b[0m\n\u001b[1;32m      4\u001b[0m FP \u001b[38;5;241m=\u001b[39m confMat[\u001b[38;5;241m0\u001b[39m][\u001b[38;5;241m1\u001b[39m]\n\u001b[1;32m      5\u001b[0m FN \u001b[38;5;241m=\u001b[39m confMat[\u001b[38;5;241m1\u001b[39m][\u001b[38;5;241m0\u001b[39m]\n\u001b[0;32m----> 6\u001b[0m \u001b[43mSEN\u001b[49m\u001b[38;5;241m.\u001b[39mappend(TP \u001b[38;5;241m/\u001b[39m (TP \u001b[38;5;241m+\u001b[39m FN))\n\u001b[1;32m      7\u001b[0m SPE\u001b[38;5;241m.\u001b[39mappend(TN \u001b[38;5;241m/\u001b[39m (FP \u001b[38;5;241m+\u001b[39m TN))\n\u001b[1;32m      8\u001b[0m FPR\u001b[38;5;241m.\u001b[39mappend(FP \u001b[38;5;241m/\u001b[39m (FP \u001b[38;5;241m+\u001b[39m TN))\n",
      "\u001b[0;31mNameError\u001b[0m: name 'SEN' is not defined"
     ]
    }
   ],
   "source": [
    "data = confusion_matrix(target_val,lr_pred)\n",
    "calculateScore(data)\n",
    "df_cm = pd.DataFrame(data, columns=np.unique(target_val), index = np.unique(target_val))\n",
    "df_cm.index.name = 'Actual'\n",
    "df_cm.columns.name = 'Predicted'\n",
    "plt.figure(figsize = (10,7))\n",
    "sns.set(font_scale=1.4)\n",
    "sns.heatmap(df_cm, cmap=\"Blues\", annot=True,annot_kws={\"size\": 16})"
   ]
  },
  {
   "cell_type": "code",
   "execution_count": 25,
   "metadata": {},
   "outputs": [
    {
     "name": "stdout",
     "output_type": "stream",
     "text": [
      "              precision    recall  f1-score   support\n",
      "\n",
      "         0.0       1.00      1.00      1.00        97\n",
      "         1.0       1.00      1.00      1.00       413\n",
      "\n",
      "    accuracy                           1.00       510\n",
      "   macro avg       1.00      1.00      1.00       510\n",
      "weighted avg       1.00      1.00      1.00       510\n",
      "\n"
     ]
    }
   ],
   "source": [
    "#NAIVEBAYES\n",
    "naiveClassifier=GaussianNB()\n",
    "naiveClassifier.fit(train, target_train)\n",
    "naiveClassifier_pred = naiveClassifier.predict(test)\n",
    "print(classification_report(target_val,naiveClassifier_pred))"
   ]
  },
  {
   "cell_type": "code",
   "execution_count": 26,
   "metadata": {},
   "outputs": [],
   "source": [
    "Model.append('Naive')\n",
    "Accuracy.append(accuracy_score(target_val,naiveClassifier_pred))\n",
    "Precision.append(precision_score(target_val,naiveClassifier_pred))\n",
    "Recall.append(recall_score(target_val,naiveClassifier_pred))\n",
    "F1Score.append(f1_score(target_val,naiveClassifier_pred,average=None))"
   ]
  },
  {
   "cell_type": "code",
   "execution_count": 27,
   "metadata": {},
   "outputs": [
    {
     "ename": "NameError",
     "evalue": "name 'Sen' is not defined",
     "output_type": "error",
     "traceback": [
      "\u001b[0;31m---------------------------------------------------------------------------\u001b[0m",
      "\u001b[0;31mNameError\u001b[0m                                 Traceback (most recent call last)",
      "Input \u001b[0;32mIn [27]\u001b[0m, in \u001b[0;36m<cell line: 2>\u001b[0;34m()\u001b[0m\n\u001b[1;32m      1\u001b[0m data \u001b[38;5;241m=\u001b[39m confusion_matrix(target_val,naiveClassifier_pred)\n\u001b[0;32m----> 2\u001b[0m \u001b[43mcalculateScore\u001b[49m\u001b[43m(\u001b[49m\u001b[43mdata\u001b[49m\u001b[43m)\u001b[49m\n\u001b[1;32m      3\u001b[0m df_cm \u001b[38;5;241m=\u001b[39m pd\u001b[38;5;241m.\u001b[39mDataFrame(data, columns\u001b[38;5;241m=\u001b[39mnp\u001b[38;5;241m.\u001b[39munique(target_val), index \u001b[38;5;241m=\u001b[39m np\u001b[38;5;241m.\u001b[39munique(target_val))\n\u001b[1;32m      4\u001b[0m df_cm\u001b[38;5;241m.\u001b[39mindex\u001b[38;5;241m.\u001b[39mname \u001b[38;5;241m=\u001b[39m \u001b[38;5;124m'\u001b[39m\u001b[38;5;124mActual\u001b[39m\u001b[38;5;124m'\u001b[39m\n",
      "Input \u001b[0;32mIn [19]\u001b[0m, in \u001b[0;36mcalculateScore\u001b[0;34m(confMat)\u001b[0m\n\u001b[1;32m      4\u001b[0m FP \u001b[38;5;241m=\u001b[39m confMat[\u001b[38;5;241m0\u001b[39m][\u001b[38;5;241m1\u001b[39m]\n\u001b[1;32m      5\u001b[0m FN \u001b[38;5;241m=\u001b[39m confMat[\u001b[38;5;241m1\u001b[39m][\u001b[38;5;241m0\u001b[39m]\n\u001b[0;32m----> 6\u001b[0m \u001b[43mSen\u001b[49m\u001b[38;5;241m.\u001b[39mappend(TP \u001b[38;5;241m/\u001b[39m (TP \u001b[38;5;241m+\u001b[39m FN))\n\u001b[1;32m      7\u001b[0m Spe\u001b[38;5;241m.\u001b[39mappend(TN \u001b[38;5;241m/\u001b[39m (FP \u001b[38;5;241m+\u001b[39m TN))\n\u001b[1;32m      8\u001b[0m FPR\u001b[38;5;241m.\u001b[39mappend(FP \u001b[38;5;241m/\u001b[39m (FP \u001b[38;5;241m+\u001b[39m TN))\n",
      "\u001b[0;31mNameError\u001b[0m: name 'Sen' is not defined"
     ]
    }
   ],
   "source": [
    "data = confusion_matrix(target_val,naiveClassifier_pred)\n",
    "calculateScore(data)\n",
    "df_cm = pd.DataFrame(data, columns=np.unique(target_val), index = np.unique(target_val))\n",
    "df_cm.index.name = 'Actual'\n",
    "df_cm.columns.name = 'Predicted'\n",
    "plt.figure(figsize = (10,7))\n",
    "sns.set(font_scale=1.4)\n",
    "sns.heatmap(df_cm, cmap=\"Blues\", annot=True,annot_kws={\"size\": 16})"
   ]
  },
  {
   "cell_type": "code",
   "execution_count": 28,
   "metadata": {},
   "outputs": [],
   "source": [
    "result = pd.DataFrame({'Model':Model,'Accuracy':Accuracy,'F1Score':F1Score, 'Precision':Precision, 'Recall': Recall})\n"
   ]
  },
  {
   "cell_type": "code",
   "execution_count": 32,
   "metadata": {},
   "outputs": [],
   "source": [
    "feature_cols=[\"EAR\",\"YAWN\",\"PULSE\",\"OUTPUT\"]\n",
    "X=ne_df[feature_cols]\n",
    "y=ne_df.OUTPUT"
   ]
  },
  {
   "cell_type": "code",
   "execution_count": 33,
   "metadata": {},
   "outputs": [],
   "source": [
    "from sklearn.model_selection import train_test_split\n",
    "X_train,X_test,y_train,y_test=train_test_split(X,y,test_size=0.25,random_state=0)"
   ]
  },
  {
   "cell_type": "code",
   "execution_count": 41,
   "metadata": {},
   "outputs": [
    {
     "name": "stdout",
     "output_type": "stream",
     "text": [
      "Accuracy : 1.0\n",
      "Accuracy : 1.0\n"
     ]
    },
    {
     "data": {
      "image/png": "[encoded data removed]",
      "text/plain": [
       "<Figure size 432x288 with 2 Axes>"
      ]
     },
     "metadata": {
      "needs_background": "light"
     },
     "output_type": "display_data"
    },
    {
     "name": "stdout",
     "output_type": "stream",
     "text": [
      "              precision    recall  f1-score   support\n",
      "\n",
      "         0.0       1.00      1.00      1.00        97\n",
      "         1.0       1.00      1.00      1.00       413\n",
      "\n",
      "    accuracy                           1.00       510\n",
      "   macro avg       1.00      1.00      1.00       510\n",
      "weighted avg       1.00      1.00      1.00       510\n",
      "\n"
     ]
    },
    {
     "data": {
      "image/png": "[encoded data removed]",
      "text/plain": [
       "<Figure size 432x288 with 1 Axes>"
      ]
     },
     "metadata": {
      "needs_background": "light"
     },
     "output_type": "display_data"
    }
   ],
   "source": [
    "#SVM\n",
    "from sklearn import svm\n",
    "svm_clf = svm.SVC(kernel='rbf', gamma=0.0001, C=100,probability=True)\n",
    "svm_clf.fit(X_train,y_train)\n",
    "y_pred_svm =svm_clf.predict(X_train)\n",
    "from sklearn.metrics import accuracy_score\n",
    "svm_result = accuracy_score(y_train,y_pred_svm)\n",
    "print(\"Accuracy :\",svm_result)\n",
    "y_pred_svm =svm_clf.predict(X_test)\n",
    "from sklearn.metrics import accuracy_score\n",
    "svm_result = accuracy_score(y_test,y_pred_svm)\n",
    "print(\"Accuracy :\",svm_result)\n",
    "# Making the Confusion Matrix\n",
    "from sklearn.metrics import confusion_matrix\n",
    "cm_svm = confusion_matrix(y_test, y_pred_svm)\n",
    "cm_svm\n",
    "from mlxtend.plotting import plot_confusion_matrix\n",
    "import matplotlib.pyplot as plt\n",
    "import numpy as np\n",
    "binary = np.array(cm_svm)\n",
    "\n",
    "fig, ax = plot_confusion_matrix(conf_mat=binary,\n",
    "                                show_absolute=True,\n",
    "                                show_normed=True,\n",
    "                                colorbar=True)\n",
    "plt.show()\n",
    "recall_svm = cm_svm[0][0]/(cm_svm[0][0] + cm_svm[0][1])\n",
    "precision_svm = cm_svm[0][0]/(cm_svm[0][0]+cm_svm[1][1])\n",
    "recall_svm,precision_svm\n",
    "from sklearn.metrics import classification_report\n",
    "print(classification_report(y_test, y_pred_svm))\n",
    "from sklearn.metrics import roc_auc_score\n",
    "from sklearn.metrics import roc_curve\n",
    "svm_roc_auc = roc_auc_score(y_test, svm_clf.predict(X_test))\n",
    "fpr, tpr, thresholds = roc_curve(y_test, svm_clf.predict_proba(X_test)[:,1])\n",
    "plt.figure()\n",
    "plt.plot(fpr, tpr, label='svm (area = %0.2f)' % svm_roc_auc)\n",
    "plt.plot([0, 1], [0, 1],'r--')\n",
    "plt.xlim([0.0, 1.0])\n",
    "plt.ylim([0.0, 1.05])\n",
    "plt.xlabel('False Positive Rate')\n",
    "plt.ylabel('True Positive Rate')\n",
    "plt.title('Receiver operating characteristic')\n",
    "plt.legend(loc=\"lower right\")\n",
    "plt.savefig('svm_ROC')\n",
    "plt.show()\n",
    "Model.append('SVM')\n",
    "Accuracy.append(svm_result )\n",
    "Precision.append(precision_svm)\n",
    "Recall.append(recall_svm)\n",
    "F1Score.append([0.98936,0.97452])"
   ]
  },
  {
   "cell_type": "code",
   "execution_count": 40,
   "metadata": {},
   "outputs": [
    {
     "name": "stdout",
     "output_type": "stream",
     "text": [
      "Collecting mlxtend\n",
      "  Downloading mlxtend-0.19.0-py2.py3-none-any.whl (1.3 MB)\n",
      "\u001b[2K     \u001b[90m━━━━━━━━━━━━━━━━━━━━━━━━━━━━━━━━━━━━━━━━\u001b[0m \u001b[32m1.3/1.3 MB\u001b[0m \u001b[31m17.2 MB/s\u001b[0m eta \u001b[36m0:00:00\u001b[0m00:01\u001b[0m00:01\u001b[0m\n",
      "\u001b[?25hRequirement already satisfied: setuptools in /srv/paws/lib/python3.8/site-packages (from mlxtend) (60.10.0)\n",
      "Requirement already satisfied: joblib>=0.13.2 in /srv/paws/lib/python3.8/site-packages (from mlxtend) (1.1.0)\n",
      "Requirement already satisfied: pandas>=0.24.2 in /srv/paws/lib/python3.8/site-packages (from mlxtend) (1.4.2)\n",
      "Requirement already satisfied: scipy>=1.2.1 in /srv/paws/lib/python3.8/site-packages (from mlxtend) (1.8.0)\n",
      "Requirement already satisfied: numpy>=1.16.2 in /srv/paws/lib/python3.8/site-packages (from mlxtend) (1.22.3)\n",
      "Requirement already satisfied: scikit-learn>=0.20.3 in /srv/paws/lib/python3.8/site-packages (from mlxtend) (1.0.2)\n",
      "Requirement already satisfied: matplotlib>=3.0.0 in /srv/paws/lib/python3.8/site-packages (from mlxtend) (3.5.1)\n",
      "Requirement already satisfied: fonttools>=4.22.0 in /srv/paws/lib/python3.8/site-packages (from matplotlib>=3.0.0->mlxtend) (4.32.0)\n",
      "Requirement already satisfied: pillow>=6.2.0 in /srv/paws/lib/python3.8/site-packages (from matplotlib>=3.0.0->mlxtend) (9.1.0)\n",
      "Requirement already satisfied: kiwisolver>=1.0.1 in /srv/paws/lib/python3.8/site-packages (from matplotlib>=3.0.0->mlxtend) (1.4.2)\n",
      "Requirement already satisfied: packaging>=20.0 in /srv/paws/lib/python3.8/site-packages (from matplotlib>=3.0.0->mlxtend) (21.3)\n",
      "Requirement already satisfied: pyparsing>=2.2.1 in /srv/paws/lib/python3.8/site-packages (from matplotlib>=3.0.0->mlxtend) (3.0.8)\n",
      "Requirement already satisfied: python-dateutil>=2.7 in /srv/paws/lib/python3.8/site-packages (from matplotlib>=3.0.0->mlxtend) (2.8.2)\n",
      "Requirement already satisfied: cycler>=0.10 in /srv/paws/lib/python3.8/site-packages (from matplotlib>=3.0.0->mlxtend) (0.11.0)\n",
      "Requirement already satisfied: pytz>=2020.1 in /srv/paws/lib/python3.8/site-packages (from pandas>=0.24.2->mlxtend) (2022.1)\n",
      "Requirement already satisfied: threadpoolctl>=2.0.0 in /srv/paws/lib/python3.8/site-packages (from scikit-learn>=0.20.3->mlxtend) (3.1.0)\n",
      "Requirement already satisfied: six>=1.5 in /srv/paws/lib/python3.8/site-packages (from python-dateutil>=2.7->matplotlib>=3.0.0->mlxtend) (1.16.0)\n",
      "Installing collected packages: mlxtend\n",
      "Successfully installed mlxtend-0.19.0\n",
      "Note: you may need to restart the kernel to use updated packages.\n"
     ]
    }
   ],
   "source": [
    "pip install mlxtend\n"
   ]
  },
  {
   "cell_type": "code",
   "execution_count": 42,
   "metadata": {},
   "outputs": [
    {
     "name": "stdout",
     "output_type": "stream",
     "text": [
      "              precision    recall  f1-score   support\n",
      "\n",
      "         0.0       0.80      0.96      0.87        97\n",
      "         1.0       0.99      0.94      0.97       413\n",
      "\n",
      "    accuracy                           0.95       510\n",
      "   macro avg       0.90      0.95      0.92       510\n",
      "weighted avg       0.95      0.95      0.95       510\n",
      "\n"
     ]
    }
   ],
   "source": [
    "#KNN\n",
    "knn = KNeighborsClassifier(n_neighbors=8)\n",
    "knn.fit(train, target_train)\n",
    "knn_pred = knn.predict(test)\n",
    "print(classification_report(target_val,knn_pred))"
   ]
  },
  {
   "cell_type": "code",
   "execution_count": 43,
   "metadata": {},
   "outputs": [],
   "source": [
    "Model.append('KNN')\n",
    "Accuracy.append(accuracy_score(target_val,knn_pred))\n",
    "Precision.append(precision_score(target_val,knn_pred))\n",
    "Recall.append(recall_score(target_val,knn_pred))\n",
    "F1Score.append(f1_score(target_val,knn_pred,average=None))"
   ]
  },
  {
   "cell_type": "code",
   "execution_count": 44,
   "metadata": {},
   "outputs": [
    {
     "ename": "NameError",
     "evalue": "name 'Sen' is not defined",
     "output_type": "error",
     "traceback": [
      "\u001b[0;31m---------------------------------------------------------------------------\u001b[0m",
      "\u001b[0;31mNameError\u001b[0m                                 Traceback (most recent call last)",
      "Input \u001b[0;32mIn [44]\u001b[0m, in \u001b[0;36m<cell line: 2>\u001b[0;34m()\u001b[0m\n\u001b[1;32m      1\u001b[0m data \u001b[38;5;241m=\u001b[39m confusion_matrix(target_val,knn_pred)\n\u001b[0;32m----> 2\u001b[0m \u001b[43mcalculateScore\u001b[49m\u001b[43m(\u001b[49m\u001b[43mdata\u001b[49m\u001b[43m)\u001b[49m\n\u001b[1;32m      3\u001b[0m df_cm \u001b[38;5;241m=\u001b[39m pd\u001b[38;5;241m.\u001b[39mDataFrame(data, columns\u001b[38;5;241m=\u001b[39mnp\u001b[38;5;241m.\u001b[39munique(target_val), index \u001b[38;5;241m=\u001b[39m np\u001b[38;5;241m.\u001b[39munique(target_val))\n\u001b[1;32m      4\u001b[0m df_cm\u001b[38;5;241m.\u001b[39mindex\u001b[38;5;241m.\u001b[39mname \u001b[38;5;241m=\u001b[39m \u001b[38;5;124m'\u001b[39m\u001b[38;5;124mActual\u001b[39m\u001b[38;5;124m'\u001b[39m\n",
      "Input \u001b[0;32mIn [19]\u001b[0m, in \u001b[0;36mcalculateScore\u001b[0;34m(confMat)\u001b[0m\n\u001b[1;32m      4\u001b[0m FP \u001b[38;5;241m=\u001b[39m confMat[\u001b[38;5;241m0\u001b[39m][\u001b[38;5;241m1\u001b[39m]\n\u001b[1;32m      5\u001b[0m FN \u001b[38;5;241m=\u001b[39m confMat[\u001b[38;5;241m1\u001b[39m][\u001b[38;5;241m0\u001b[39m]\n\u001b[0;32m----> 6\u001b[0m \u001b[43mSen\u001b[49m\u001b[38;5;241m.\u001b[39mappend(TP \u001b[38;5;241m/\u001b[39m (TP \u001b[38;5;241m+\u001b[39m FN))\n\u001b[1;32m      7\u001b[0m Spe\u001b[38;5;241m.\u001b[39mappend(TN \u001b[38;5;241m/\u001b[39m (FP \u001b[38;5;241m+\u001b[39m TN))\n\u001b[1;32m      8\u001b[0m FPR\u001b[38;5;241m.\u001b[39mappend(FP \u001b[38;5;241m/\u001b[39m (FP \u001b[38;5;241m+\u001b[39m TN))\n",
      "\u001b[0;31mNameError\u001b[0m: name 'Sen' is not defined"
     ]
    }
   ],
   "source": [
    "data = confusion_matrix(target_val,knn_pred)\n",
    "calculateScore(data)\n",
    "df_cm = pd.DataFrame(data, columns=np.unique(target_val), index = np.unique(target_val))\n",
    "df_cm.index.name = 'Actual'\n",
    "df_cm.columns.name = 'Predicted'\n",
    "plt.figure(figsize = (10,7))\n",
    "sns.set(font_scale=1.8)\n",
    "sns.heatmap(df_cm, cmap=\"Blues\", annot=True,annot_kws={\"size\": 16})"
   ]
  },
  {
   "cell_type": "code",
   "execution_count": 38,
   "metadata": {},
   "outputs": [
    {
     "name": "stdout",
     "output_type": "stream",
     "text": [
      "3 3 3 3 3\n"
     ]
    }
   ],
   "source": [
    "print(len(Model), len(Accuracy), len(F1Score), len(Precision), len(Recall))"
   ]
  },
  {
   "cell_type": "code",
   "execution_count": 45,
   "metadata": {},
   "outputs": [
    {
     "name": "stdout",
     "output_type": "stream",
     "text": [
      "                 Model  Accuracy                                  F1Score  \\\n",
      "0  Logistic Regression  1.000000                               [1.0, 1.0]   \n",
      "1                Naive  1.000000                               [1.0, 1.0]   \n",
      "2                  KNN  0.947059  [0.8732394366197184, 0.966542750929368]   \n",
      "3                  SVM  1.000000                       [0.98936, 0.97452]   \n",
      "4                  KNN  0.947059  [0.8732394366197184, 0.966542750929368]   \n",
      "\n",
      "   Precision   Recall  \n",
      "0   1.000000  1.00000  \n",
      "1   1.000000  1.00000  \n",
      "2   0.989848  0.94431  \n",
      "3   0.190196  1.00000  \n",
      "4   0.989848  0.94431  \n"
     ]
    }
   ],
   "source": [
    "result = pd.DataFrame({'Model':Model,'Accuracy':Accuracy,'F1Score':F1Score, 'Precision':Precision, 'Recall': Recall})\n",
    "print(result)"
   ]
  },
  {
   "cell_type": "code",
   "execution_count": null,
   "metadata": {},
   "outputs": [],
   "source": []
  }
 ],
 "metadata": {
  "kernelspec": {
   "display_name": "Python 3 (ipykernel)",
   "language": "python",
   "name": "python3"
  },
  "language_info": {
   "codemirror_mode": {
    "name": "ipython",
    "version": 3
   },
   "file_extension": ".py",
   "mimetype": "text/x-python",
   "name": "python",
   "nbconvert_exporter": "python",
   "pygments_lexer": "ipython3",
   "version": "3.8.10"
  }
 },
 "nbformat": 4,
 "nbformat_minor": 4
}
